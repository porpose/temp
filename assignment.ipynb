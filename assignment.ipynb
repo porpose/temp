{
 "cells": [
  {
   "cell_type": "markdown",
   "id": "be40d3bb",
   "metadata": {},
   "source": [
    "## Part 1"
   ]
  },
  {
   "cell_type": "code",
   "execution_count": 1,
   "id": "fa8ced47",
   "metadata": {},
   "outputs": [],
   "source": [
    "def f(x):\n",
    "    '''The supplied function in the assignment.'''\n",
    "    return x*x*x - x*x - 1\n",
    "\n",
    "def df(x):\n",
    "    '''Derivative of the supplied function.'''\n",
    "    return 3*x*x - 2*x"
   ]
  },
  {
   "cell_type": "markdown",
   "id": "c243ebc6",
   "metadata": {},
   "source": [
    "## Part 2"
   ]
  },
  {
   "cell_type": "code",
   "execution_count": 2,
   "id": "f7dc8161",
   "metadata": {},
   "outputs": [],
   "source": [
    "def newton(f, df, x0, epsilon=1e-6, max_iter=30):\n",
    "    \"\"\"Returns root of a given function by using Newton's method\n",
    "    and iterations.\n",
    "\n",
    "    Parameters\n",
    "    ----------\n",
    "    f: function\n",
    "        The math function to be solved.\n",
    "        \n",
    "    df: function\n",
    "        Derivative of the function f.\n",
    "        \n",
    "    x0: float\n",
    "        The starting point on the x axis for iterations.\n",
    "        \n",
    "    epsilon: float, optional\n",
    "        The desired accuracy of iterations. Iteration is stopped when\n",
    "        f(x) < epsilon.\n",
    "        \n",
    "    max_iter: int, optional\n",
    "        The maximum number of iterations. Iteration is stopped if this\n",
    "        number of iteration is reached, regardless of being successful \n",
    "        or not.\n",
    "\n",
    "    Returns\n",
    "    -------\n",
    "    x: float\n",
    "        The calculated root of the function f.\n",
    "    \n",
    "    None\n",
    "        Only returned if max_iter is reached.\n",
    "    \"\"\"\n",
    "    for i in range(max_iter):\n",
    "        x = x0 - f(x0)/df(x0)\n",
    "        if abs(f(x)) < epsilon:\n",
    "            print(\"Find root in {N} iterations\".format(N = i))\n",
    "            return x\n",
    "        x0 = x\n",
    "        \n",
    "    print(\"Iteration failed\")\n",
    "    return None"
   ]
  },
  {
   "cell_type": "markdown",
   "id": "4ccc5449",
   "metadata": {},
   "source": [
    "## Part 3"
   ]
  },
  {
   "cell_type": "code",
   "execution_count": 3,
   "id": "aedf7899",
   "metadata": {},
   "outputs": [
    {
     "name": "stdout",
     "output_type": "stream",
     "text": [
      "Find root in 10 iterations\n"
     ]
    },
    {
     "data": {
      "text/plain": [
       "1.4655713154475905"
      ]
     },
     "execution_count": 3,
     "metadata": {},
     "output_type": "execute_result"
    }
   ],
   "source": [
    "newton(f, df, 0.1)"
   ]
  },
  {
   "cell_type": "code",
   "execution_count": 4,
   "id": "f7dcae78",
   "metadata": {},
   "outputs": [
    {
     "name": "stdout",
     "output_type": "stream",
     "text": [
      "Find root in 3 iterations\n"
     ]
    },
    {
     "data": {
      "text/plain": [
       "1.4655713749070918"
      ]
     },
     "execution_count": 4,
     "metadata": {},
     "output_type": "execute_result"
    }
   ],
   "source": [
    "newton(f, df, 2)"
   ]
  },
  {
   "cell_type": "markdown",
   "id": "9ac33f5d",
   "metadata": {},
   "source": [
    "### Set $\\varepsilon =$ 1e-8"
   ]
  },
  {
   "cell_type": "code",
   "execution_count": 5,
   "id": "25f032e2",
   "metadata": {},
   "outputs": [
    {
     "name": "stdout",
     "output_type": "stream",
     "text": [
      "Find root in 11 iterations\n"
     ]
    },
    {
     "data": {
      "text/plain": [
       "1.4655712318767748"
      ]
     },
     "execution_count": 5,
     "metadata": {},
     "output_type": "execute_result"
    }
   ],
   "source": [
    "newton(f, df, 0.1, epsilon = 1e-8)"
   ]
  },
  {
   "cell_type": "code",
   "execution_count": 6,
   "id": "febf4754",
   "metadata": {},
   "outputs": [
    {
     "name": "stdout",
     "output_type": "stream",
     "text": [
      "Find root in 4 iterations\n"
     ]
    },
    {
     "data": {
      "text/plain": [
       "1.4655712318767877"
      ]
     },
     "execution_count": 6,
     "metadata": {},
     "output_type": "execute_result"
    }
   ],
   "source": [
    "newton(f, df, 2, epsilon = 1e-8)"
   ]
  },
  {
   "cell_type": "markdown",
   "id": "d5db8b6c",
   "metadata": {},
   "source": [
    "### Changing the precision epsilon to 1e-8 doesn't seem to increase the number of iterations dramatically."
   ]
  },
  {
   "cell_type": "code",
   "execution_count": 8,
   "id": "abd4f863",
   "metadata": {},
   "outputs": [
    {
     "name": "stdout",
     "output_type": "stream",
     "text": [
      "Iteration failed\n"
     ]
    }
   ],
   "source": [
    "newton(f, df, -11, epsilon = 1e-30)"
   ]
  },
  {
   "cell_type": "code",
   "execution_count": null,
   "id": "f19533eb",
   "metadata": {},
   "outputs": [],
   "source": []
  }
 ],
 "metadata": {
  "kernelspec": {
   "display_name": "Python 3 (ipykernel)",
   "language": "python",
   "name": "python3"
  },
  "language_info": {
   "codemirror_mode": {
    "name": "ipython",
    "version": 3
   },
   "file_extension": ".py",
   "mimetype": "text/x-python",
   "name": "python",
   "nbconvert_exporter": "python",
   "pygments_lexer": "ipython3",
   "version": "3.9.7"
  }
 },
 "nbformat": 4,
 "nbformat_minor": 5
}
